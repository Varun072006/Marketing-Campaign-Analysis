{
 "cells": [
  {
   "cell_type": "markdown",
   "metadata": {
    "id": "OMzn9EbtOMoK"
   },
   "source": [
    "Part 1 – Basic Data Understanding (Pandas)"
   ]
  },
  {
   "cell_type": "markdown",
   "metadata": {
    "id": "8GHIdX5DMEJB"
   },
   "source": [
    "Load the CSV file into a Pandas DataFrame and Display first 10 rows of data.\n"
   ]
  },
  {
   "cell_type": "code",
   "execution_count": 12,
   "metadata": {
    "colab": {
     "base_uri": "https://localhost:8080/",
     "height": 363
    },
    "executionInfo": {
     "elapsed": 10,
     "status": "ok",
     "timestamp": 1754908236144,
     "user": {
      "displayName": "VARUN S",
      "userId": "07484574055160433843"
     },
     "user_tz": -330
    },
    "id": "tcOQIwdiN6YW",
    "outputId": "e260697c-1ea1-4a48-da52-094fe0d4718b"
   },
   "outputs": [
    {
     "data": {
      "text/html": [
       "<div>\n",
       "<style scoped>\n",
       "    .dataframe tbody tr th:only-of-type {\n",
       "        vertical-align: middle;\n",
       "    }\n",
       "\n",
       "    .dataframe tbody tr th {\n",
       "        vertical-align: top;\n",
       "    }\n",
       "\n",
       "    .dataframe thead th {\n",
       "        text-align: right;\n",
       "    }\n",
       "</style>\n",
       "<table border=\"1\" class=\"dataframe\">\n",
       "  <thead>\n",
       "    <tr style=\"text-align: right;\">\n",
       "      <th></th>\n",
       "      <th>campaign_id</th>\n",
       "      <th>campaign_name</th>\n",
       "      <th>investment</th>\n",
       "      <th>revenue_generated</th>\n",
       "    </tr>\n",
       "  </thead>\n",
       "  <tbody>\n",
       "    <tr>\n",
       "      <th>0</th>\n",
       "      <td>1</td>\n",
       "      <td>Campaign 1</td>\n",
       "      <td>49487.73</td>\n",
       "      <td>84129.1410</td>\n",
       "    </tr>\n",
       "    <tr>\n",
       "      <th>1</th>\n",
       "      <td>2</td>\n",
       "      <td>Campaign 2</td>\n",
       "      <td>31088.53</td>\n",
       "      <td>70881.8484</td>\n",
       "    </tr>\n",
       "    <tr>\n",
       "      <th>2</th>\n",
       "      <td>3</td>\n",
       "      <td>Campaign 3</td>\n",
       "      <td>22106.35</td>\n",
       "      <td>42444.1920</td>\n",
       "    </tr>\n",
       "    <tr>\n",
       "      <th>3</th>\n",
       "      <td>4</td>\n",
       "      <td>Campaign 4</td>\n",
       "      <td>29792.67</td>\n",
       "      <td>87888.3765</td>\n",
       "    </tr>\n",
       "    <tr>\n",
       "      <th>4</th>\n",
       "      <td>5</td>\n",
       "      <td>Campaign 5</td>\n",
       "      <td>38540.05</td>\n",
       "      <td>92110.7195</td>\n",
       "    </tr>\n",
       "    <tr>\n",
       "      <th>5</th>\n",
       "      <td>6</td>\n",
       "      <td>Campaign 6</td>\n",
       "      <td>35115.48</td>\n",
       "      <td>51970.9104</td>\n",
       "    </tr>\n",
       "    <tr>\n",
       "      <th>6</th>\n",
       "      <td>7</td>\n",
       "      <td>Campaign 7</td>\n",
       "      <td>16921.38</td>\n",
       "      <td>32319.8358</td>\n",
       "    </tr>\n",
       "    <tr>\n",
       "      <th>7</th>\n",
       "      <td>8</td>\n",
       "      <td>Campaign 8</td>\n",
       "      <td>7985.07</td>\n",
       "      <td>13973.8725</td>\n",
       "    </tr>\n",
       "    <tr>\n",
       "      <th>8</th>\n",
       "      <td>9</td>\n",
       "      <td>Campaign 9</td>\n",
       "      <td>21653.79</td>\n",
       "      <td>56732.9298</td>\n",
       "    </tr>\n",
       "    <tr>\n",
       "      <th>9</th>\n",
       "      <td>10</td>\n",
       "      <td>Campaign 10</td>\n",
       "      <td>33337.29</td>\n",
       "      <td>92344.2933</td>\n",
       "    </tr>\n",
       "  </tbody>\n",
       "</table>\n",
       "</div>"
      ],
      "text/plain": [
       "   campaign_id campaign_name  investment  revenue_generated\n",
       "0            1    Campaign 1    49487.73         84129.1410\n",
       "1            2    Campaign 2    31088.53         70881.8484\n",
       "2            3    Campaign 3    22106.35         42444.1920\n",
       "3            4    Campaign 4    29792.67         87888.3765\n",
       "4            5    Campaign 5    38540.05         92110.7195\n",
       "5            6    Campaign 6    35115.48         51970.9104\n",
       "6            7    Campaign 7    16921.38         32319.8358\n",
       "7            8    Campaign 8     7985.07         13973.8725\n",
       "8            9    Campaign 9    21653.79         56732.9298\n",
       "9           10   Campaign 10    33337.29         92344.2933"
      ]
     },
     "execution_count": 12,
     "metadata": {},
     "output_type": "execute_result"
    }
   ],
   "source": [
    "import pandas as pd\n",
    "\n",
    "data=pd.read_csv('marketing_campaign.csv')\n",
    "df=pd.DataFrame(data)\n",
    "df.head(10)"
   ]
  },
  {
   "cell_type": "markdown",
   "metadata": {
    "id": "Nr6DAPzAMKcn"
   },
   "source": [
    "Show Shape"
   ]
  },
  {
   "cell_type": "code",
   "execution_count": 13,
   "metadata": {
    "colab": {
     "base_uri": "https://localhost:8080/"
    },
    "executionInfo": {
     "elapsed": 15,
     "status": "ok",
     "timestamp": 1754908236155,
     "user": {
      "displayName": "VARUN S",
      "userId": "07484574055160433843"
     },
     "user_tz": -330
    },
    "id": "19uVAXqPRJpl",
    "outputId": "9f7fb722-76eb-4396-a9c6-c60994cc29da"
   },
   "outputs": [
    {
     "name": "stdout",
     "output_type": "stream",
     "text": [
      "Shape: (100, 4)\n"
     ]
    }
   ],
   "source": [
    "print(\"Shape:\",df.shape)"
   ]
  },
  {
   "cell_type": "markdown",
   "metadata": {
    "id": "tb5oI8njMUNZ"
   },
   "source": [
    "Show column names"
   ]
  },
  {
   "cell_type": "code",
   "execution_count": 14,
   "metadata": {
    "colab": {
     "base_uri": "https://localhost:8080/"
    },
    "executionInfo": {
     "elapsed": 30,
     "status": "ok",
     "timestamp": 1754908236208,
     "user": {
      "displayName": "VARUN S",
      "userId": "07484574055160433843"
     },
     "user_tz": -330
    },
    "id": "IwqKbTAZRKdG",
    "outputId": "d6f2823e-e63a-463a-992e-d21b9f345ee5"
   },
   "outputs": [
    {
     "name": "stdout",
     "output_type": "stream",
     "text": [
      "Column Names: ['campaign_id', 'campaign_name', 'investment', 'revenue_generated']\n"
     ]
    }
   ],
   "source": [
    "print(\"Column Names:\",df.columns.tolist())"
   ]
  },
  {
   "cell_type": "markdown",
   "metadata": {
    "id": "lE8eiA66MaAw"
   },
   "source": [
    "Show Datatypes"
   ]
  },
  {
   "cell_type": "code",
   "execution_count": 15,
   "metadata": {
    "colab": {
     "base_uri": "https://localhost:8080/"
    },
    "executionInfo": {
     "elapsed": 28,
     "status": "ok",
     "timestamp": 1754908236217,
     "user": {
      "displayName": "VARUN S",
      "userId": "07484574055160433843"
     },
     "user_tz": -330
    },
    "id": "UuUBEFilRM9d",
    "outputId": "6c5ab523-aea0-4f67-b1c5-0b3211c82a87"
   },
   "outputs": [
    {
     "name": "stdout",
     "output_type": "stream",
     "text": [
      "Data Types:\n",
      " campaign_id            int64\n",
      "campaign_name         object\n",
      "investment           float64\n",
      "revenue_generated    float64\n",
      "dtype: object\n"
     ]
    }
   ],
   "source": [
    "print(\"Data Types:\\n\",df.dtypes)"
   ]
  },
  {
   "cell_type": "markdown",
   "metadata": {
    "id": "KpMz8A-4MdDC"
   },
   "source": [
    "Check for missing values"
   ]
  },
  {
   "cell_type": "code",
   "execution_count": 16,
   "metadata": {
    "colab": {
     "base_uri": "https://localhost:8080/"
    },
    "executionInfo": {
     "elapsed": 98,
     "status": "ok",
     "timestamp": 1754908236311,
     "user": {
      "displayName": "VARUN S",
      "userId": "07484574055160433843"
     },
     "user_tz": -330
    },
    "id": "l1ueBOPmRQ85",
    "outputId": "25ec0192-01fc-4265-fdc2-d7ff839abcf8"
   },
   "outputs": [
    {
     "name": "stdout",
     "output_type": "stream",
     "text": [
      "Missing Values:\n",
      " campaign_id          0\n",
      "campaign_name        0\n",
      "investment           0\n",
      "revenue_generated    0\n",
      "dtype: int64\n"
     ]
    }
   ],
   "source": [
    "print(\"Missing Values:\\n\",df.isnull().sum())"
   ]
  },
  {
   "cell_type": "markdown",
   "metadata": {
    "id": "oTnDUCtNMhl6"
   },
   "source": [
    "Check for duplicates."
   ]
  },
  {
   "cell_type": "code",
   "execution_count": 17,
   "metadata": {
    "colab": {
     "base_uri": "https://localhost:8080/"
    },
    "executionInfo": {
     "elapsed": 12,
     "status": "ok",
     "timestamp": 1754908236324,
     "user": {
      "displayName": "VARUN S",
      "userId": "07484574055160433843"
     },
     "user_tz": -330
    },
    "id": "ldoJyD1XRTby",
    "outputId": "5b849ade-0193-4bc5-a207-4d9b7aa40c32"
   },
   "outputs": [
    {
     "name": "stdout",
     "output_type": "stream",
     "text": [
      "Duplicate Values: 0\n"
     ]
    }
   ],
   "source": [
    "print(\"Duplicate Values:\",df.duplicated().sum())"
   ]
  },
  {
   "cell_type": "markdown",
   "metadata": {
    "id": "zFYhevK1Mkh9"
   },
   "source": [
    "Use .describe() to get summary statistics.\n"
   ]
  },
  {
   "cell_type": "code",
   "execution_count": 18,
   "metadata": {
    "colab": {
     "base_uri": "https://localhost:8080/",
     "height": 300
    },
    "executionInfo": {
     "elapsed": 58,
     "status": "ok",
     "timestamp": 1754908236379,
     "user": {
      "displayName": "VARUN S",
      "userId": "07484574055160433843"
     },
     "user_tz": -330
    },
    "id": "sAfopDjkRVhM",
    "outputId": "bd617982-25b8-44a6-c7c5-6cb48019693b"
   },
   "outputs": [
    {
     "data": {
      "text/html": [
       "<div>\n",
       "<style scoped>\n",
       "    .dataframe tbody tr th:only-of-type {\n",
       "        vertical-align: middle;\n",
       "    }\n",
       "\n",
       "    .dataframe tbody tr th {\n",
       "        vertical-align: top;\n",
       "    }\n",
       "\n",
       "    .dataframe thead th {\n",
       "        text-align: right;\n",
       "    }\n",
       "</style>\n",
       "<table border=\"1\" class=\"dataframe\">\n",
       "  <thead>\n",
       "    <tr style=\"text-align: right;\">\n",
       "      <th></th>\n",
       "      <th>campaign_id</th>\n",
       "      <th>investment</th>\n",
       "      <th>revenue_generated</th>\n",
       "    </tr>\n",
       "  </thead>\n",
       "  <tbody>\n",
       "    <tr>\n",
       "      <th>count</th>\n",
       "      <td>100.000000</td>\n",
       "      <td>100.000000</td>\n",
       "      <td>100.000000</td>\n",
       "    </tr>\n",
       "    <tr>\n",
       "      <th>mean</th>\n",
       "      <td>50.500000</td>\n",
       "      <td>29740.635100</td>\n",
       "      <td>62194.218745</td>\n",
       "    </tr>\n",
       "    <tr>\n",
       "      <th>std</th>\n",
       "      <td>29.011492</td>\n",
       "      <td>13038.196412</td>\n",
       "      <td>32310.019254</td>\n",
       "    </tr>\n",
       "    <tr>\n",
       "      <th>min</th>\n",
       "      <td>1.000000</td>\n",
       "      <td>5018.090000</td>\n",
       "      <td>7089.051900</td>\n",
       "    </tr>\n",
       "    <tr>\n",
       "      <th>25%</th>\n",
       "      <td>25.750000</td>\n",
       "      <td>19837.305000</td>\n",
       "      <td>36356.478600</td>\n",
       "    </tr>\n",
       "    <tr>\n",
       "      <th>50%</th>\n",
       "      <td>50.500000</td>\n",
       "      <td>31139.585000</td>\n",
       "      <td>60994.763800</td>\n",
       "    </tr>\n",
       "    <tr>\n",
       "      <th>75%</th>\n",
       "      <td>75.250000</td>\n",
       "      <td>41243.275000</td>\n",
       "      <td>84974.451150</td>\n",
       "    </tr>\n",
       "    <tr>\n",
       "      <th>max</th>\n",
       "      <td>100.000000</td>\n",
       "      <td>49487.730000</td>\n",
       "      <td>136821.472300</td>\n",
       "    </tr>\n",
       "  </tbody>\n",
       "</table>\n",
       "</div>"
      ],
      "text/plain": [
       "       campaign_id    investment  revenue_generated\n",
       "count   100.000000    100.000000         100.000000\n",
       "mean     50.500000  29740.635100       62194.218745\n",
       "std      29.011492  13038.196412       32310.019254\n",
       "min       1.000000   5018.090000        7089.051900\n",
       "25%      25.750000  19837.305000       36356.478600\n",
       "50%      50.500000  31139.585000       60994.763800\n",
       "75%      75.250000  41243.275000       84974.451150\n",
       "max     100.000000  49487.730000      136821.472300"
      ]
     },
     "execution_count": 18,
     "metadata": {},
     "output_type": "execute_result"
    }
   ],
   "source": [
    "df.describe()"
   ]
  },
  {
   "cell_type": "markdown",
   "metadata": {
    "id": "BuhFMjmjSRfT"
   },
   "source": [
    "Part 2 – EDA (Exploratory Data Analysis)"
   ]
  },
  {
   "cell_type": "markdown",
   "metadata": {
    "id": "qU8twN1nMp94"
   },
   "source": [
    "Plot a histogram for investment and revenue_generated.\n"
   ]
  },
  {
   "cell_type": "code",
   "execution_count": 19,
   "metadata": {
    "colab": {
     "base_uri": "https://localhost:8080/",
     "height": 927
    },
    "executionInfo": {
     "elapsed": 281,
     "status": "ok",
     "timestamp": 1754908236678,
     "user": {
      "displayName": "VARUN S",
      "userId": "07484574055160433843"
     },
     "user_tz": -330
    },
    "id": "CdFLNV1XSX8p",
    "outputId": "97ed3096-cb36-41df-87a6-ed55b6e1d201"
   },
   "outputs": [
    {
     "data": {
      "image/png": "[encoded data removed]",
      "text/plain": [
       "<Figure size 640x480 with 1 Axes>"
      ]
     },
     "metadata": {},
     "output_type": "display_data"
    },
    {
     "data": {
      "image/png": "[encoded data removed]",
      "text/plain": [
       "<Figure size 640x480 with 1 Axes>"
      ]
     },
     "metadata": {},
     "output_type": "display_data"
    }
   ],
   "source": [
    "import pandas as pd\n",
    "import matplotlib.pyplot as plt\n",
    "\n",
    "data=pd.read_csv('marketing_campaign.csv')\n",
    "df=pd.DataFrame(data)\n",
    "\n",
    "plt.hist(df['investment'], bins=10, color='skyblue', edgecolor='black')\n",
    "plt.title('Investment Distribution')\n",
    "plt.xlabel('Investment')\n",
    "plt.ylabel('Frequency')\n",
    "plt.show()\n",
    "\n",
    "plt.hist(df['revenue_generated'], bins=10, color='pink', edgecolor='black')\n",
    "plt.title('Revenue Generated Distribution')\n",
    "plt.xlabel('Revenue Generated')\n",
    "plt.ylabel('Frequency')\n",
    "plt.show()"
   ]
  },
  {
   "cell_type": "markdown",
   "metadata": {
    "id": "sD_phIwCMtR_"
   },
   "source": [
    "Scatter plot: investment vs revenue_generated."
   ]
  },
  {
   "cell_type": "code",
   "execution_count": 20,
   "metadata": {
    "colab": {
     "base_uri": "https://localhost:8080/",
     "height": 472
    },
    "executionInfo": {
     "elapsed": 275,
     "status": "ok",
     "timestamp": 1754908236937,
     "user": {
      "displayName": "VARUN S",
      "userId": "07484574055160433843"
     },
     "user_tz": -330
    },
    "id": "9mf_gC1aTwUN",
    "outputId": "625d55d7-333f-4c5a-9257-5324420e3924"
   },
   "outputs": [
    {
     "data": {
      "image/png": "[encoded data removed]",
      "text/plain": [
       "<Figure size 640x480 with 1 Axes>"
      ]
     },
     "metadata": {},
     "output_type": "display_data"
    }
   ],
   "source": [
    "plt.scatter(df['investment'], df['revenue_generated'], color='green', alpha=0.5)\n",
    "plt.title('Investment vs Revenue Generated')\n",
    "plt.xlabel('Investment')\n",
    "plt.ylabel('Revenue Generated')\n",
    "plt.show()"
   ]
  },
  {
   "cell_type": "markdown",
   "metadata": {
    "id": "DJDnoOFNMxj2"
   },
   "source": [
    "Find top 10 campaigns by highest revenue."
   ]
  },
  {
   "cell_type": "code",
   "execution_count": 21,
   "metadata": {
    "colab": {
     "base_uri": "https://localhost:8080/"
    },
    "executionInfo": {
     "elapsed": 29,
     "status": "ok",
     "timestamp": 1754908236956,
     "user": {
      "displayName": "VARUN S",
      "userId": "07484574055160433843"
     },
     "user_tz": -330
    },
    "id": "rfUJFa3EUM-m",
    "outputId": "3e1fd162-8743-4016-8931-4d72c74c7262"
   },
   "outputs": [
    {
     "name": "stdout",
     "output_type": "stream",
     "text": [
      "    campaign_id campaign_name  investment  revenue_generated\n",
      "40           41   Campaign 41    48346.81        136821.4723\n",
      "70           71   Campaign 71    45179.99        131021.9710\n",
      "93           94   Campaign 94    43901.57        129509.6315\n",
      "29           30   Campaign 30    47757.93        126080.9352\n",
      "80           81   Campaign 81    48954.16        121895.8584\n",
      "18           19   Campaign 19    46616.36        116074.7364\n",
      "14           15   Campaign 15    41213.96        112101.9712\n",
      "31           32   Campaign 32    46202.29        111347.5189\n",
      "91           92   Campaign 92    38978.70        109530.1470\n",
      "58           59   Campaign 59    45742.65        107037.8010\n"
     ]
    }
   ],
   "source": [
    "top_10_revenue = df.sort_values(by='revenue_generated', ascending=False).head(10)\n",
    "print(top_10_revenue)"
   ]
  },
  {
   "cell_type": "markdown",
   "metadata": {
    "id": "OEiDhtsOM2d6"
   },
   "source": [
    "Find bottom 10 campaigns by lowest investment."
   ]
  },
  {
   "cell_type": "code",
   "execution_count": 22,
   "metadata": {
    "colab": {
     "base_uri": "https://localhost:8080/"
    },
    "executionInfo": {
     "elapsed": 93,
     "status": "ok",
     "timestamp": 1754908237029,
     "user": {
      "displayName": "VARUN S",
      "userId": "07484574055160433843"
     },
     "user_tz": -330
    },
    "id": "eRZu_TFWUYcs",
    "outputId": "e6ff2ae6-c7af-43dd-f70c-267858407d22"
   },
   "outputs": [
    {
     "name": "stdout",
     "output_type": "stream",
     "text": [
      "    campaign_id campaign_name  investment  revenue_generated\n",
      "79           80   Campaign 80     5018.09         12846.3104\n",
      "25           26   Campaign 26     5627.82         10242.6324\n",
      "48           49   Campaign 49     5675.85         15438.3120\n",
      "65           66   Campaign 66     5699.00          9802.2800\n",
      "45           46   Campaign 46     5968.62         14802.1776\n",
      "75           76   Campaign 76     7425.92         18119.2448\n",
      "20           21   Campaign 21     7968.25         20398.7200\n",
      "7             8    Campaign 8     7985.07         13973.8725\n",
      "12           13   Campaign 13     7994.14         12870.5654\n",
      "42           43   Campaign 43    10684.83         13997.1273\n"
     ]
    }
   ],
   "source": [
    "bottom_10_investment = df.sort_values(by='investment', ascending=True).head(10)\n",
    "print(bottom_10_investment)"
   ]
  },
  {
   "cell_type": "markdown",
   "metadata": {
    "id": "stWnHTZyM-Tm"
   },
   "source": [
    "Boxplot for revenue_generated to detect outliers."
   ]
  },
  {
   "cell_type": "code",
   "execution_count": 23,
   "metadata": {
    "colab": {
     "base_uri": "https://localhost:8080/",
     "height": 452
    },
    "executionInfo": {
     "elapsed": 61,
     "status": "ok",
     "timestamp": 1754908237108,
     "user": {
      "displayName": "VARUN S",
      "userId": "07484574055160433843"
     },
     "user_tz": -330
    },
    "id": "N9O05xLsT841",
    "outputId": "800d3e3d-a36f-47aa-dd5c-4bd00e587afc"
   },
   "outputs": [
    {
     "data": {
      "image/png": "[encoded data removed]",
      "text/plain": [
       "<Figure size 640x480 with 1 Axes>"
      ]
     },
     "metadata": {},
     "output_type": "display_data"
    }
   ],
   "source": [
    "plt.boxplot(df['revenue_generated'])\n",
    "plt.title('Revenue Generated Boxplot')\n",
    "plt.ylabel('Revenue Generated')\n",
    "plt.show()"
   ]
  },
  {
   "cell_type": "markdown",
   "metadata": {
    "id": "uoHD6z2oVIK1"
   },
   "source": [
    "Part 3 – Statistics"
   ]
  },
  {
   "cell_type": "markdown",
   "metadata": {
    "id": "sd6WtR-gNCCl"
   },
   "source": [
    "Calculate mean, median, mode, variance, and standard deviation of investment."
   ]
  },
  {
   "cell_type": "code",
   "execution_count": 24,
   "metadata": {
    "colab": {
     "base_uri": "https://localhost:8080/"
    },
    "executionInfo": {
     "elapsed": 26,
     "status": "ok",
     "timestamp": 1754908237137,
     "user": {
      "displayName": "VARUN S",
      "userId": "07484574055160433843"
     },
     "user_tz": -330
    },
    "id": "Q0zpYChxVJC5",
    "outputId": "37f39412-e30c-43dd-b29e-bc4ee63fed5e"
   },
   "outputs": [
    {
     "name": "stdout",
     "output_type": "stream",
     "text": [
      "Mean Investment: 29740.6351\n",
      "Median Investment: 31139.585\n",
      "Mode Investment: 5018.09\n",
      "Variance: 168294620.033811\n",
      "Standard Deviation: 12972.841632958101\n"
     ]
    }
   ],
   "source": [
    "import pandas as pd\n",
    "import numpy as np\n",
    "\n",
    "data=pd.read_csv('marketing_campaign.csv')\n",
    "df=pd.DataFrame(data)\n",
    "\n",
    "print(\"Mean Investment:\", np.mean(df['investment']))\n",
    "print(\"Median Investment:\", np.median(df['investment']))\n",
    "print(\"Mode Investment:\", pd.Series(df['investment']).mode().iloc[0])\n",
    "print(\"Variance:\", np.var(df['investment']))\n",
    "print(\"Standard Deviation:\", np.std(df['investment']))"
   ]
  },
  {
   "cell_type": "markdown",
   "metadata": {
    "id": "UnibZSwXNE91"
   },
   "source": [
    "Find correlation between investment and revenue_generated."
   ]
  },
  {
   "cell_type": "code",
   "execution_count": 25,
   "metadata": {
    "colab": {
     "base_uri": "https://localhost:8080/"
    },
    "executionInfo": {
     "elapsed": 29,
     "status": "ok",
     "timestamp": 1754908237168,
     "user": {
      "displayName": "VARUN S",
      "userId": "07484574055160433843"
     },
     "user_tz": -330
    },
    "id": "XqcbjEsmWa7X",
    "outputId": "02760f4c-8f89-41d1-bd8f-ea8258778e60"
   },
   "outputs": [
    {
     "name": "stdout",
     "output_type": "stream",
     "text": [
      "Correlation: 0.8270300574504117\n"
     ]
    }
   ],
   "source": [
    "correlation = df['investment'].corr(df['revenue_generated'])\n",
    "print(\"Correlation:\", correlation)"
   ]
  },
  {
   "cell_type": "markdown",
   "metadata": {
    "id": "AerQEprfNHyz"
   },
   "source": [
    "Probability: Campaign with ROI > 50%."
   ]
  },
  {
   "cell_type": "code",
   "execution_count": 26,
   "metadata": {
    "colab": {
     "base_uri": "https://localhost:8080/"
    },
    "executionInfo": {
     "elapsed": 22,
     "status": "ok",
     "timestamp": 1754908237170,
     "user": {
      "displayName": "VARUN S",
      "userId": "07484574055160433843"
     },
     "user_tz": -330
    },
    "id": "A5giLhKqWrEt",
    "outputId": "0ea9589b-f16e-452c-bc90-a9c9f50750a1"
   },
   "outputs": [
    {
     "name": "stdout",
     "output_type": "stream",
     "text": [
      "Probability: 0.83\n"
     ]
    }
   ],
   "source": [
    "df['ROI'] = ((df['revenue_generated'] - df['investment']) / df['investment']) * 100\n",
    "count=(df['ROI']>50).sum()\n",
    "probability=(count/len(df))\n",
    "print(\"Probability:\",probability)"
   ]
  },
  {
   "cell_type": "markdown",
   "metadata": {
    "id": "qH_kDW2bXmP2"
   },
   "source": [
    "Part 4 – Linear Algebra & NumPy\n"
   ]
  },
  {
   "cell_type": "markdown",
   "metadata": {
    "id": "AaxayKysNKf-"
   },
   "source": [
    "Represent investment and revenue_generated as NumPy arrays"
   ]
  },
  {
   "cell_type": "code",
   "execution_count": 27,
   "metadata": {
    "colab": {
     "base_uri": "https://localhost:8080/"
    },
    "executionInfo": {
     "elapsed": 12,
     "status": "ok",
     "timestamp": 1754908237185,
     "user": {
      "displayName": "VARUN S",
      "userId": "07484574055160433843"
     },
     "user_tz": -330
    },
    "id": "OQKYx7tMXl5N",
    "outputId": "da61814b-a23b-41c8-9dec-c0cf1fe0c813"
   },
   "outputs": [
    {
     "name": "stdout",
     "output_type": "stream",
     "text": [
      "Investment: [49487.73, 31088.53, 22106.35, 29792.67, 38540.05, 35115.48, 16921.38, 7985.07, 21653.79, 33337.29, 14457.83, 38874.0, 7994.14, 16714.18, 41213.96, 13704.54, 33775.74, 28610.16, 46616.36, 16848.35, 7968.25, 38077.97, 39748.01, 45851.71, 46938.74, 5627.82, 15546.29, 32755.03, 47705.73, 47757.93, 30049.39, 46202.29, 33870.48, 22550.35, 26869.58, 32193.97, 29729.66, 46678.16, 46343.0, 22769.4, 48346.81, 12828.01, 10684.83, 11078.56, 27754.8, 5968.62, 47658.66, 42220.2, 5675.85, 12928.83, 19942.86, 10894.86, 41427.08, 20513.15, 47304.84, 31190.64, 44547.44, 43013.05, 45742.65, 25694.61, 29585.61, 40937.16, 17857.35, 27061.41, 31959.96, 5699.0, 31706.66, 24515.44, 41331.22, 19186.02, 45179.99, 31003.57, 13280.46, 40456.82, 32541.4, 7425.92, 23908.72, 35558.1, 46337.08, 5018.09, 48954.16, 21946.11, 48820.26, 32212.22, 42298.06, 30862.02, 33263.43, 17850.93, 31407.5, 38750.98, 43624.12, 38978.7, 36412.58, 43901.57, 19520.64, 35185.5, 25289.33, 22194.62, 23486.51, 23066.58]\n",
      "Revenue Generated: [84129.141, 70881.8484, 42444.192, 87888.3765, 92110.7195, 51970.9104, 32319.8358, 13973.8725, 56732.9298, 92344.2933, 40771.0806, 91742.64, 12870.5654, 26408.4044, 112101.9712, 28779.534, 88492.4388, 62656.2504, 116074.7364, 35213.0515, 20398.72, 83009.9746, 78701.0598, 80240.4925, 57734.6502, 10242.6324, 19432.8625, 97282.4391, 69173.3085, 126080.9352, 82936.3164, 111347.5189, 73837.6464, 31795.9935, 53470.4642, 56661.3872, 45486.3798, 104092.2968, 78319.67, 64665.096, 136821.4723, 20396.5359, 13997.1273, 16285.4832, 56897.34, 14802.1776, 71487.99, 66285.714, 15438.312, 24435.4887, 45270.2922, 16778.0844, 53440.9332, 42667.352, 95082.7284, 43354.9896, 101568.1632, 91617.7965, 107037.801, 35201.6157, 74851.5933, 62224.4832, 37321.8615, 7089.0519, 36434.3544, 9802.28, 87510.3816, 66191.688, 87622.1864, 52761.555, 131021.971, 82779.5319, 36122.8512, 52189.2978, 76146.876, 18119.2448, 54033.7072, 93162.222, 54214.3836, 12846.3104, 121895.8584, 34894.3149, 77624.2134, 74088.106, 74444.5856, 80549.8722, 64863.6885, 46233.9087, 93594.35, 64714.1366, 59765.0444, 109530.147, 77558.7954, 129509.6315, 45092.6784, 105204.645, 54119.1662, 46608.702, 31941.6536, 41058.5124]\n"
     ]
    }
   ],
   "source": [
    "import pandas as pd\n",
    "import numpy as np\n",
    "\n",
    "data=pd.read_csv('marketing_campaign.csv')\n",
    "df=pd.DataFrame(data)\n",
    "\n",
    "investment = np.array(df['investment'])\n",
    "revenue_generated = np.array(df['revenue_generated'])\n",
    "print(\"Investment:\", investment.tolist())\n",
    "print(\"Revenue Generated:\", revenue_generated.tolist())"
   ]
  },
  {
   "cell_type": "markdown",
   "metadata": {
    "id": "rYqFcMyQNNET"
   },
   "source": [
    "Perform vector addition & subtraction."
   ]
  },
  {
   "cell_type": "code",
   "execution_count": 28,
   "metadata": {
    "colab": {
     "base_uri": "https://localhost:8080/"
    },
    "executionInfo": {
     "elapsed": 10,
     "status": "ok",
     "timestamp": 1754908237198,
     "user": {
      "displayName": "VARUN S",
      "userId": "07484574055160433843"
     },
     "user_tz": -330
    },
    "id": "YeQE1L4xYwkE",
    "outputId": "d3b06d39-06c8-43fc-bc04-c77b252991d2"
   },
   "outputs": [
    {
     "name": "stdout",
     "output_type": "stream",
     "text": [
      "Addition: [133616.87, 101970.38, 64550.54, 117681.05, 130650.77, 87086.39, 49241.22, 21958.94, 78386.72, 125681.58, 55228.91, 130616.64, 20864.71, 43122.58, 153315.93, 42484.07, 122268.18, 91266.41, 162691.1, 52061.4, 28366.97, 121087.94, 118449.07, 126092.2, 104673.39, 15870.45, 34979.15, 130037.47, 116879.04, 173838.87, 112985.71, 157549.81, 107708.13, 54346.34, 80340.04, 88855.36, 75216.04, 150770.46, 124662.67, 87434.5, 185168.28, 33224.55, 24681.96, 27364.04, 84652.14, 20770.8, 119146.65, 108505.91, 21114.16, 37364.32, 65213.15, 27672.94, 94868.01, 63180.5, 142387.57, 74545.63, 146115.6, 134630.85, 152780.45, 60896.23, 104437.2, 103161.64, 55179.21, 34150.46, 68394.31, 15501.28, 119217.04, 90707.13, 128953.41, 71947.58, 176201.96, 113783.1, 49403.31, 92646.12, 108688.28, 25545.16, 77942.43, 128720.32, 100551.46, 17864.4, 170850.02, 56840.42, 126444.47, 106300.33, 116742.65, 111411.89, 98127.12, 64084.84, 125001.85, 103465.12, 103389.16, 148508.85, 113971.38, 173411.2, 64613.32, 140390.15, 79408.5, 68803.32, 55428.16, 64125.09]\n",
      "Subtraction: [34641.41, 39793.32, 20337.84, 58095.71, 53570.67, 16855.43, 15398.46, 5988.8, 35079.14, 59007.0, 26313.25, 52868.64, 4876.43, 9694.22, 70888.01, 15074.99, 54716.7, 34046.09, 69458.38, 18364.7, 12430.47, 44932.0, 38953.05, 34388.78, 10795.91, 4614.81, 3886.57, 64527.41, 21467.58, 78323.01, 52886.93, 65145.23, 39967.17, 9245.64, 26600.88, 24467.42, 15756.72, 57414.14, 31976.67, 41895.7, 88474.66, 7568.53, 3312.3, 5206.92, 29142.54, 8833.56, 23829.33, 24065.51, 9762.46, 11506.66, 25327.43, 5883.22, 12013.85, 22154.2, 47777.89, 12164.35, 57020.72, 48604.75, 61295.15, 9507.01, 45265.98, 21287.32, 19464.51, -19972.36, 4474.39, 4103.28, 55803.72, 41676.25, 46290.97, 33575.54, 85841.98, 51775.96, 22842.39, 11732.48, 43605.48, 10693.32, 30124.99, 57604.12, 7877.3, 7828.22, 72941.7, 12948.2, 28803.95, 41875.89, 32146.53, 49687.85, 31600.26, 28382.98, 62186.85, 25963.16, 16140.92, 70551.45, 41146.22, 85608.06, 25572.04, 70019.14, 28829.84, 24414.08, 8455.14, 17991.93]\n"
     ]
    }
   ],
   "source": [
    "Addition=investment+revenue_generated\n",
    "print(\"Addition:\", Addition.round(2).tolist())\n",
    "Subtraction=revenue_generated-investment\n",
    "print(\"Subtraction:\", Subtraction.round(2).tolist())"
   ]
  },
  {
   "cell_type": "markdown",
   "metadata": {
    "id": "wJurpYjhNQWg"
   },
   "source": [
    "Compute dot product of investment and revenue_generated"
   ]
  },
  {
   "cell_type": "code",
   "execution_count": 29,
   "metadata": {
    "colab": {
     "base_uri": "https://localhost:8080/"
    },
    "executionInfo": {
     "elapsed": 8,
     "status": "ok",
     "timestamp": 1754908237208,
     "user": {
      "displayName": "VARUN S",
      "userId": "07484574055160433843"
     },
     "user_tz": -330
    },
    "id": "5KpNcN3OZ80l",
    "outputId": "1248924e-4405-4a27-b5f2-ec73de854d9f"
   },
   "outputs": [
    {
     "name": "stdout",
     "output_type": "stream",
     "text": [
      "Product: 219460988402.47467\n"
     ]
    }
   ],
   "source": [
    "Product=np.dot(investment,revenue_generated)\n",
    "print(\"Product:\", Product)"
   ]
  },
  {
   "cell_type": "markdown",
   "metadata": {
    "id": "SeCgW7qENTd-"
   },
   "source": [
    "Perform matrix multiplication:\n",
    "Features = [investment, revenue_generated],\n",
    "Weight vector = [0.5, 0.5]"
   ]
  },
  {
   "cell_type": "code",
   "execution_count": 30,
   "metadata": {
    "colab": {
     "base_uri": "https://localhost:8080/"
    },
    "executionInfo": {
     "elapsed": 8,
     "status": "ok",
     "timestamp": 1754908237217,
     "user": {
      "displayName": "VARUN S",
      "userId": "07484574055160433843"
     },
     "user_tz": -330
    },
    "id": "Ks-bSa0raM2B",
    "outputId": "0b86b160-761b-4747-a5ab-9394ef68b4ba"
   },
   "outputs": [
    {
     "name": "stdout",
     "output_type": "stream",
     "text": [
      "Matrix Multiplication: [66808.44 50985.19 32275.27 58840.52 65325.38 43543.2  24620.61 10979.47\n",
      " 39193.36 62840.79 27614.46 65308.32 10432.35 21561.29 76657.97 21242.04\n",
      " 61134.09 45633.21 81345.55 26030.7  14183.48 60543.97 59224.53 63046.1\n",
      " 52336.7   7935.23 17489.58 65018.73 58439.52 86919.43 56492.85 78774.9\n",
      " 53854.06 27173.17 40170.02 44427.68 37608.02 75385.23 62331.34 43717.25\n",
      " 92584.14 16612.27 12340.98 13682.02 42326.07 10385.4  59573.32 54252.96\n",
      " 10557.08 18682.16 32606.58 13836.47 47434.01 31590.25 71193.78 37272.81\n",
      " 73057.8  67315.42 76390.23 30448.11 52218.6  51580.82 27589.61 17075.23\n",
      " 34197.16  7750.64 59608.52 45353.56 64476.7  35973.79 88100.98 56891.55\n",
      " 24701.66 46323.06 54344.14 12772.58 38971.21 64360.16 50275.73  8932.2\n",
      " 85425.01 28420.21 63222.24 53150.16 58371.32 55705.95 49063.56 32042.42\n",
      " 62500.92 51732.56 51694.58 74254.42 56985.69 86705.6  32306.66 70195.07\n",
      " 39704.25 34401.66 27714.08 32062.55]\n"
     ]
    }
   ],
   "source": [
    "Features=np.column_stack((investment,revenue_generated))\n",
    "weight_vector=np.array([0.5,0.5])\n",
    "Multiply=np.dot(Features,weight_vector)\n",
    "print(\"Matrix Multiplication:\", Multiply.round(2))"
   ]
  },
  {
   "cell_type": "markdown",
   "metadata": {
    "id": "14c4O1nlcf8-"
   },
   "source": [
    "Part 5 – Calculus"
   ]
  },
  {
   "cell_type": "markdown",
   "metadata": {
    "id": "u6X_StPsNZ8j"
   },
   "source": [
    "Find derivative of ROI with respect to investment (use SymPy)."
   ]
  },
  {
   "cell_type": "code",
   "execution_count": 31,
   "metadata": {
    "colab": {
     "base_uri": "https://localhost:8080/"
    },
    "executionInfo": {
     "elapsed": 219,
     "status": "ok",
     "timestamp": 1754908237437,
     "user": {
      "displayName": "VARUN S",
      "userId": "07484574055160433843"
     },
     "user_tz": -330
    },
    "id": "IQTLs6r1cM6N",
    "outputId": "cc21a2a4-1446-4d05-9c58-86c420ae8f6b"
   },
   "outputs": [
    {
     "name": "stdout",
     "output_type": "stream",
     "text": [
      "ROI formula: 100*(-I + R)/I\n",
      "Derivative (I): -100/I - 100*(-I + R)/I**2\n"
     ]
    }
   ],
   "source": [
    "import pandas as pd\n",
    "import numpy as np\n",
    "import sympy as sp\n",
    "\n",
    "data=pd.read_csv('marketing_campaign.csv')\n",
    "df=pd.DataFrame(data)\n",
    "\n",
    "I, R = sp.symbols('I R')\n",
    "\n",
    "ROI = ((R - I) / I) * 100\n",
    "dROI_dI = sp.diff(ROI, I)\n",
    "\n",
    "print(\"ROI formula:\", ROI)\n",
    "print(\"Derivative (I):\", dROI_dI)"
   ]
  },
  {
   "cell_type": "markdown",
   "metadata": {
    "id": "HewkiC6cNdZ-"
   },
   "source": [
    "Interpret the derivative."
   ]
  },
  {
   "cell_type": "code",
   "execution_count": 32,
   "metadata": {
    "colab": {
     "base_uri": "https://localhost:8080/"
    },
    "executionInfo": {
     "elapsed": 10,
     "status": "ok",
     "timestamp": 1754908237450,
     "user": {
      "displayName": "VARUN S",
      "userId": "07484574055160433843"
     },
     "user_tz": -330
    },
    "id": "6x6KKdMOeOTB",
    "outputId": "5ce3382f-d632-4eb8-ed19-972350ce31a8"
   },
   "outputs": [
    {
     "name": "stdout",
     "output_type": "stream",
     "text": [
      "Derivative values: [-0.0034, -0.0073, -0.0087, -0.0099, -0.0062, -0.0042, -0.0113, -0.0219, -0.0121, -0.0083, -0.0195, -0.0061, -0.0201, -0.0095, -0.0066, -0.0153, -0.0078, -0.0077, -0.0053, -0.0124, -0.0321, -0.0057, -0.005, -0.0038, -0.0026, -0.0323, -0.008, -0.0091, -0.003, -0.0055, -0.0092, -0.0052, -0.0064, -0.0063, -0.0074, -0.0055, -0.0051, -0.0048, -0.0036, -0.0125, -0.0059, -0.0124, -0.0123, -0.0133, -0.0074, -0.0416, -0.0031, -0.0037, -0.0479, -0.0146, -0.0114, -0.0141, -0.0031, -0.0101, -0.0042, -0.0045, -0.0051, -0.005, -0.0051, -0.0053, -0.0086, -0.0037, -0.0117, -0.001, -0.0036, -0.0302, -0.0087, -0.011, -0.0051, -0.0143, -0.0064, -0.0086, -0.0205, -0.0032, -0.0072, -0.0329, -0.0095, -0.0074, -0.0025, -0.051, -0.0051, -0.0072, -0.0033, -0.0071, -0.0042, -0.0085, -0.0059, -0.0145, -0.0095, -0.0043, -0.0031, -0.0072, -0.0058, -0.0067, -0.0118, -0.0085, -0.0085, -0.0095, -0.0058, -0.0077]\n"
     ]
    }
   ],
   "source": [
    "df['ROI_derivative'] = -100 * df['revenue_generated'] / (df['investment'] ** 2)\n",
    "print(\"Derivative values:\",df['ROI_derivative'].round(4).tolist())"
   ]
  },
  {
   "cell_type": "markdown",
   "metadata": {
    "id": "FgVI7QJ_kAbw"
   },
   "source": [
    "Part 6 – Feature Engineering"
   ]
  },
  {
   "cell_type": "markdown",
   "metadata": {
    "id": "Z6HYw5dfNf88"
   },
   "source": [
    "Create new column ROI."
   ]
  },
  {
   "cell_type": "code",
   "execution_count": 33,
   "metadata": {
    "colab": {
     "base_uri": "https://localhost:8080/",
     "height": 423
    },
    "executionInfo": {
     "elapsed": 7,
     "status": "ok",
     "timestamp": 1754908237459,
     "user": {
      "displayName": "VARUN S",
      "userId": "07484574055160433843"
     },
     "user_tz": -330
    },
    "id": "EuFlAbCBkCM4",
    "outputId": "3f445968-245d-473e-acd7-bdba0be073ef"
   },
   "outputs": [
    {
     "data": {
      "text/html": [
       "<div>\n",
       "<style scoped>\n",
       "    .dataframe tbody tr th:only-of-type {\n",
       "        vertical-align: middle;\n",
       "    }\n",
       "\n",
       "    .dataframe tbody tr th {\n",
       "        vertical-align: top;\n",
       "    }\n",
       "\n",
       "    .dataframe thead th {\n",
       "        text-align: right;\n",
       "    }\n",
       "</style>\n",
       "<table border=\"1\" class=\"dataframe\">\n",
       "  <thead>\n",
       "    <tr style=\"text-align: right;\">\n",
       "      <th></th>\n",
       "      <th>campaign_id</th>\n",
       "      <th>campaign_name</th>\n",
       "      <th>investment</th>\n",
       "      <th>revenue_generated</th>\n",
       "      <th>ROI</th>\n",
       "    </tr>\n",
       "  </thead>\n",
       "  <tbody>\n",
       "    <tr>\n",
       "      <th>0</th>\n",
       "      <td>1</td>\n",
       "      <td>Campaign 1</td>\n",
       "      <td>49487.73</td>\n",
       "      <td>84129.1410</td>\n",
       "      <td>70.0</td>\n",
       "    </tr>\n",
       "    <tr>\n",
       "      <th>1</th>\n",
       "      <td>2</td>\n",
       "      <td>Campaign 2</td>\n",
       "      <td>31088.53</td>\n",
       "      <td>70881.8484</td>\n",
       "      <td>128.0</td>\n",
       "    </tr>\n",
       "    <tr>\n",
       "      <th>2</th>\n",
       "      <td>3</td>\n",
       "      <td>Campaign 3</td>\n",
       "      <td>22106.35</td>\n",
       "      <td>42444.1920</td>\n",
       "      <td>92.0</td>\n",
       "    </tr>\n",
       "    <tr>\n",
       "      <th>3</th>\n",
       "      <td>4</td>\n",
       "      <td>Campaign 4</td>\n",
       "      <td>29792.67</td>\n",
       "      <td>87888.3765</td>\n",
       "      <td>195.0</td>\n",
       "    </tr>\n",
       "    <tr>\n",
       "      <th>4</th>\n",
       "      <td>5</td>\n",
       "      <td>Campaign 5</td>\n",
       "      <td>38540.05</td>\n",
       "      <td>92110.7195</td>\n",
       "      <td>139.0</td>\n",
       "    </tr>\n",
       "    <tr>\n",
       "      <th>...</th>\n",
       "      <td>...</td>\n",
       "      <td>...</td>\n",
       "      <td>...</td>\n",
       "      <td>...</td>\n",
       "      <td>...</td>\n",
       "    </tr>\n",
       "    <tr>\n",
       "      <th>95</th>\n",
       "      <td>96</td>\n",
       "      <td>Campaign 96</td>\n",
       "      <td>35185.50</td>\n",
       "      <td>105204.6450</td>\n",
       "      <td>199.0</td>\n",
       "    </tr>\n",
       "    <tr>\n",
       "      <th>96</th>\n",
       "      <td>97</td>\n",
       "      <td>Campaign 97</td>\n",
       "      <td>25289.33</td>\n",
       "      <td>54119.1662</td>\n",
       "      <td>114.0</td>\n",
       "    </tr>\n",
       "    <tr>\n",
       "      <th>97</th>\n",
       "      <td>98</td>\n",
       "      <td>Campaign 98</td>\n",
       "      <td>22194.62</td>\n",
       "      <td>46608.7020</td>\n",
       "      <td>110.0</td>\n",
       "    </tr>\n",
       "    <tr>\n",
       "      <th>98</th>\n",
       "      <td>99</td>\n",
       "      <td>Campaign 99</td>\n",
       "      <td>23486.51</td>\n",
       "      <td>31941.6536</td>\n",
       "      <td>36.0</td>\n",
       "    </tr>\n",
       "    <tr>\n",
       "      <th>99</th>\n",
       "      <td>100</td>\n",
       "      <td>Campaign 100</td>\n",
       "      <td>23066.58</td>\n",
       "      <td>41058.5124</td>\n",
       "      <td>78.0</td>\n",
       "    </tr>\n",
       "  </tbody>\n",
       "</table>\n",
       "<p>100 rows × 5 columns</p>\n",
       "</div>"
      ],
      "text/plain": [
       "    campaign_id campaign_name  investment  revenue_generated    ROI\n",
       "0             1    Campaign 1    49487.73         84129.1410   70.0\n",
       "1             2    Campaign 2    31088.53         70881.8484  128.0\n",
       "2             3    Campaign 3    22106.35         42444.1920   92.0\n",
       "3             4    Campaign 4    29792.67         87888.3765  195.0\n",
       "4             5    Campaign 5    38540.05         92110.7195  139.0\n",
       "..          ...           ...         ...                ...    ...\n",
       "95           96   Campaign 96    35185.50        105204.6450  199.0\n",
       "96           97   Campaign 97    25289.33         54119.1662  114.0\n",
       "97           98   Campaign 98    22194.62         46608.7020  110.0\n",
       "98           99   Campaign 99    23486.51         31941.6536   36.0\n",
       "99          100  Campaign 100    23066.58         41058.5124   78.0\n",
       "\n",
       "[100 rows x 5 columns]"
      ]
     },
     "execution_count": 33,
     "metadata": {},
     "output_type": "execute_result"
    }
   ],
   "source": [
    "import pandas as pd\n",
    "\n",
    "data=pd.read_csv('marketing_campaign.csv')\n",
    "df=pd.DataFrame(data)\n",
    "df['ROI']= ((df['revenue_generated'] - df['investment']) / df['investment']) * 100\n",
    "df"
   ]
  },
  {
   "cell_type": "markdown",
   "metadata": {
    "id": "P5WwwhQWNkS5"
   },
   "source": [
    "Create High_Performance column (1 if ROI > 50%, else 0"
   ]
  },
  {
   "cell_type": "code",
   "execution_count": 34,
   "metadata": {
    "colab": {
     "base_uri": "https://localhost:8080/"
    },
    "executionInfo": {
     "elapsed": 12,
     "status": "ok",
     "timestamp": 1754908237474,
     "user": {
      "displayName": "VARUN S",
      "userId": "07484574055160433843"
     },
     "user_tz": -330
    },
    "id": "KMZgnku2knu6",
    "outputId": "fee344fc-8851-48ad-9485-7b610cac2f4b"
   },
   "outputs": [
    {
     "name": "stdout",
     "output_type": "stream",
     "text": [
      "    campaign_id campaign_name  investment  revenue_generated    ROI  \\\n",
      "0             1    Campaign 1    49487.73         84129.1410   70.0   \n",
      "1             2    Campaign 2    31088.53         70881.8484  128.0   \n",
      "2             3    Campaign 3    22106.35         42444.1920   92.0   \n",
      "3             4    Campaign 4    29792.67         87888.3765  195.0   \n",
      "4             5    Campaign 5    38540.05         92110.7195  139.0   \n",
      "..          ...           ...         ...                ...    ...   \n",
      "95           96   Campaign 96    35185.50        105204.6450  199.0   \n",
      "96           97   Campaign 97    25289.33         54119.1662  114.0   \n",
      "97           98   Campaign 98    22194.62         46608.7020  110.0   \n",
      "98           99   Campaign 99    23486.51         31941.6536   36.0   \n",
      "99          100  Campaign 100    23066.58         41058.5124   78.0   \n",
      "\n",
      "    High_Performance  \n",
      "0                  1  \n",
      "1                  1  \n",
      "2                  1  \n",
      "3                  1  \n",
      "4                  1  \n",
      "..               ...  \n",
      "95                 1  \n",
      "96                 1  \n",
      "97                 1  \n",
      "98                 0  \n",
      "99                 1  \n",
      "\n",
      "[100 rows x 6 columns]\n"
     ]
    }
   ],
   "source": [
    "df['High_Performance'] = (df['ROI'] > 50).astype(int)\n",
    "print(df)"
   ]
  },
  {
   "cell_type": "markdown",
   "metadata": {
    "id": "XFkER05SNoY1"
   },
   "source": [
    "Create Revenue_Per_Thousand_Invested."
   ]
  },
  {
   "cell_type": "code",
   "execution_count": 35,
   "metadata": {
    "colab": {
     "base_uri": "https://localhost:8080/"
    },
    "executionInfo": {
     "elapsed": 28,
     "status": "ok",
     "timestamp": 1754908237505,
     "user": {
      "displayName": "VARUN S",
      "userId": "07484574055160433843"
     },
     "user_tz": -330
    },
    "id": "cvaokLGzld62",
    "outputId": "89d58a97-37a9-4ff3-8f25-661b7b3a6c82"
   },
   "outputs": [
    {
     "name": "stdout",
     "output_type": "stream",
     "text": [
      "    campaign_id campaign_name  investment  revenue_generated    ROI  \\\n",
      "0             1    Campaign 1    49487.73         84129.1410   70.0   \n",
      "1             2    Campaign 2    31088.53         70881.8484  128.0   \n",
      "2             3    Campaign 3    22106.35         42444.1920   92.0   \n",
      "3             4    Campaign 4    29792.67         87888.3765  195.0   \n",
      "4             5    Campaign 5    38540.05         92110.7195  139.0   \n",
      "..          ...           ...         ...                ...    ...   \n",
      "95           96   Campaign 96    35185.50        105204.6450  199.0   \n",
      "96           97   Campaign 97    25289.33         54119.1662  114.0   \n",
      "97           98   Campaign 98    22194.62         46608.7020  110.0   \n",
      "98           99   Campaign 99    23486.51         31941.6536   36.0   \n",
      "99          100  Campaign 100    23066.58         41058.5124   78.0   \n",
      "\n",
      "    High_Performance  Revenue_Per_Thousand_Invested  \n",
      "0                  1                         1700.0  \n",
      "1                  1                         2280.0  \n",
      "2                  1                         1920.0  \n",
      "3                  1                         2950.0  \n",
      "4                  1                         2390.0  \n",
      "..               ...                            ...  \n",
      "95                 1                         2990.0  \n",
      "96                 1                         2140.0  \n",
      "97                 1                         2100.0  \n",
      "98                 0                         1360.0  \n",
      "99                 1                         1780.0  \n",
      "\n",
      "[100 rows x 7 columns]\n"
     ]
    }
   ],
   "source": [
    "df['Revenue_Per_Thousand_Invested'] = df['revenue_generated'] / (df['investment'] / 1000)\n",
    "print(df)"
   ]
  },
  {
   "cell_type": "markdown",
   "metadata": {
    "id": "j1Mj95pGNrKS"
   },
   "source": [
    "Create ROI quartile ranking."
   ]
  },
  {
   "cell_type": "code",
   "execution_count": 36,
   "metadata": {
    "colab": {
     "base_uri": "https://localhost:8080/",
     "height": 423
    },
    "executionInfo": {
     "elapsed": 124,
     "status": "ok",
     "timestamp": 1754908237626,
     "user": {
      "displayName": "VARUN S",
      "userId": "07484574055160433843"
     },
     "user_tz": -330
    },
    "id": "1xzLflgalk5C",
    "outputId": "b751db82-2a0f-48de-c70e-93093ecbc2d0"
   },
   "outputs": [
    {
     "data": {
      "text/html": [
       "<div>\n",
       "<style scoped>\n",
       "    .dataframe tbody tr th:only-of-type {\n",
       "        vertical-align: middle;\n",
       "    }\n",
       "\n",
       "    .dataframe tbody tr th {\n",
       "        vertical-align: top;\n",
       "    }\n",
       "\n",
       "    .dataframe thead th {\n",
       "        text-align: right;\n",
       "    }\n",
       "</style>\n",
       "<table border=\"1\" class=\"dataframe\">\n",
       "  <thead>\n",
       "    <tr style=\"text-align: right;\">\n",
       "      <th></th>\n",
       "      <th>campaign_id</th>\n",
       "      <th>campaign_name</th>\n",
       "      <th>investment</th>\n",
       "      <th>revenue_generated</th>\n",
       "      <th>ROI</th>\n",
       "      <th>High_Performance</th>\n",
       "      <th>Revenue_Per_Thousand_Invested</th>\n",
       "      <th>ROI_Quartile</th>\n",
       "    </tr>\n",
       "  </thead>\n",
       "  <tbody>\n",
       "    <tr>\n",
       "      <th>0</th>\n",
       "      <td>1</td>\n",
       "      <td>Campaign 1</td>\n",
       "      <td>49487.73</td>\n",
       "      <td>84129.1410</td>\n",
       "      <td>70.0</td>\n",
       "      <td>1</td>\n",
       "      <td>1700.0</td>\n",
       "      <td>2</td>\n",
       "    </tr>\n",
       "    <tr>\n",
       "      <th>1</th>\n",
       "      <td>2</td>\n",
       "      <td>Campaign 2</td>\n",
       "      <td>31088.53</td>\n",
       "      <td>70881.8484</td>\n",
       "      <td>128.0</td>\n",
       "      <td>1</td>\n",
       "      <td>2280.0</td>\n",
       "      <td>3</td>\n",
       "    </tr>\n",
       "    <tr>\n",
       "      <th>2</th>\n",
       "      <td>3</td>\n",
       "      <td>Campaign 3</td>\n",
       "      <td>22106.35</td>\n",
       "      <td>42444.1920</td>\n",
       "      <td>92.0</td>\n",
       "      <td>1</td>\n",
       "      <td>1920.0</td>\n",
       "      <td>2</td>\n",
       "    </tr>\n",
       "    <tr>\n",
       "      <th>3</th>\n",
       "      <td>4</td>\n",
       "      <td>Campaign 4</td>\n",
       "      <td>29792.67</td>\n",
       "      <td>87888.3765</td>\n",
       "      <td>195.0</td>\n",
       "      <td>1</td>\n",
       "      <td>2950.0</td>\n",
       "      <td>4</td>\n",
       "    </tr>\n",
       "    <tr>\n",
       "      <th>4</th>\n",
       "      <td>5</td>\n",
       "      <td>Campaign 5</td>\n",
       "      <td>38540.05</td>\n",
       "      <td>92110.7195</td>\n",
       "      <td>139.0</td>\n",
       "      <td>1</td>\n",
       "      <td>2390.0</td>\n",
       "      <td>3</td>\n",
       "    </tr>\n",
       "    <tr>\n",
       "      <th>...</th>\n",
       "      <td>...</td>\n",
       "      <td>...</td>\n",
       "      <td>...</td>\n",
       "      <td>...</td>\n",
       "      <td>...</td>\n",
       "      <td>...</td>\n",
       "      <td>...</td>\n",
       "      <td>...</td>\n",
       "    </tr>\n",
       "    <tr>\n",
       "      <th>95</th>\n",
       "      <td>96</td>\n",
       "      <td>Campaign 96</td>\n",
       "      <td>35185.50</td>\n",
       "      <td>105204.6450</td>\n",
       "      <td>199.0</td>\n",
       "      <td>1</td>\n",
       "      <td>2990.0</td>\n",
       "      <td>4</td>\n",
       "    </tr>\n",
       "    <tr>\n",
       "      <th>96</th>\n",
       "      <td>97</td>\n",
       "      <td>Campaign 97</td>\n",
       "      <td>25289.33</td>\n",
       "      <td>54119.1662</td>\n",
       "      <td>114.0</td>\n",
       "      <td>1</td>\n",
       "      <td>2140.0</td>\n",
       "      <td>3</td>\n",
       "    </tr>\n",
       "    <tr>\n",
       "      <th>97</th>\n",
       "      <td>98</td>\n",
       "      <td>Campaign 98</td>\n",
       "      <td>22194.62</td>\n",
       "      <td>46608.7020</td>\n",
       "      <td>110.0</td>\n",
       "      <td>1</td>\n",
       "      <td>2100.0</td>\n",
       "      <td>2</td>\n",
       "    </tr>\n",
       "    <tr>\n",
       "      <th>98</th>\n",
       "      <td>99</td>\n",
       "      <td>Campaign 99</td>\n",
       "      <td>23486.51</td>\n",
       "      <td>31941.6536</td>\n",
       "      <td>36.0</td>\n",
       "      <td>0</td>\n",
       "      <td>1360.0</td>\n",
       "      <td>1</td>\n",
       "    </tr>\n",
       "    <tr>\n",
       "      <th>99</th>\n",
       "      <td>100</td>\n",
       "      <td>Campaign 100</td>\n",
       "      <td>23066.58</td>\n",
       "      <td>41058.5124</td>\n",
       "      <td>78.0</td>\n",
       "      <td>1</td>\n",
       "      <td>1780.0</td>\n",
       "      <td>2</td>\n",
       "    </tr>\n",
       "  </tbody>\n",
       "</table>\n",
       "<p>100 rows × 8 columns</p>\n",
       "</div>"
      ],
      "text/plain": [
       "    campaign_id campaign_name  investment  revenue_generated    ROI  \\\n",
       "0             1    Campaign 1    49487.73         84129.1410   70.0   \n",
       "1             2    Campaign 2    31088.53         70881.8484  128.0   \n",
       "2             3    Campaign 3    22106.35         42444.1920   92.0   \n",
       "3             4    Campaign 4    29792.67         87888.3765  195.0   \n",
       "4             5    Campaign 5    38540.05         92110.7195  139.0   \n",
       "..          ...           ...         ...                ...    ...   \n",
       "95           96   Campaign 96    35185.50        105204.6450  199.0   \n",
       "96           97   Campaign 97    25289.33         54119.1662  114.0   \n",
       "97           98   Campaign 98    22194.62         46608.7020  110.0   \n",
       "98           99   Campaign 99    23486.51         31941.6536   36.0   \n",
       "99          100  Campaign 100    23066.58         41058.5124   78.0   \n",
       "\n",
       "    High_Performance  Revenue_Per_Thousand_Invested ROI_Quartile  \n",
       "0                  1                         1700.0            2  \n",
       "1                  1                         2280.0            3  \n",
       "2                  1                         1920.0            2  \n",
       "3                  1                         2950.0            4  \n",
       "4                  1                         2390.0            3  \n",
       "..               ...                            ...          ...  \n",
       "95                 1                         2990.0            4  \n",
       "96                 1                         2140.0            3  \n",
       "97                 1                         2100.0            2  \n",
       "98                 0                         1360.0            1  \n",
       "99                 1                         1780.0            2  \n",
       "\n",
       "[100 rows x 8 columns]"
      ]
     },
     "execution_count": 36,
     "metadata": {},
     "output_type": "execute_result"
    }
   ],
   "source": [
    "df['ROI_Quartile'] = pd.qcut(df['ROI'], 4, labels=[1, 2, 3, 4])\n",
    "df"
   ]
  },
  {
   "cell_type": "markdown",
   "metadata": {
    "id": "ftdbFBSflyBt"
   },
   "source": [
    "Part 7 – SQL Simulation in Pandas"
   ]
  },
  {
   "cell_type": "markdown",
   "metadata": {
    "id": "lMQ8t4jTNu3q"
   },
   "source": [
    "Get top 25% of campaigns by ROI."
   ]
  },
  {
   "cell_type": "code",
   "execution_count": 37,
   "metadata": {
    "colab": {
     "base_uri": "https://localhost:8080/"
    },
    "executionInfo": {
     "elapsed": 202,
     "status": "ok",
     "timestamp": 1754908237796,
     "user": {
      "displayName": "VARUN S",
      "userId": "07484574055160433843"
     },
     "user_tz": -330
    },
    "id": "UQD0iCEMly4i",
    "outputId": "5dfe2f76-a84d-489f-80e2-b7b3cd8bfab4"
   },
   "outputs": [
    {
     "name": "stdout",
     "output_type": "stream",
     "text": [
      "    campaign_id campaign_name  investment  revenue_generated    ROI\n",
      "3             4    Campaign 4    29792.67         87888.3765  195.0\n",
      "8             9    Campaign 9    21653.79         56732.9298  162.0\n",
      "9            10   Campaign 10    33337.29         92344.2933  177.0\n",
      "10           11   Campaign 11    14457.83         40771.0806  182.0\n",
      "14           15   Campaign 15    41213.96        112101.9712  172.0\n",
      "16           17   Campaign 17    33775.74         88492.4388  162.0\n",
      "27           28   Campaign 28    32755.03         97282.4391  197.0\n",
      "29           30   Campaign 30    47757.93        126080.9352  164.0\n",
      "30           31   Campaign 31    30049.39         82936.3164  176.0\n",
      "39           40   Campaign 40    22769.40         64665.0960  184.0\n",
      "40           41   Campaign 41    48346.81        136821.4723  183.0\n",
      "48           49   Campaign 49     5675.85         15438.3120  172.0\n",
      "66           67   Campaign 67    31706.66         87510.3816  176.0\n",
      "67           68   Campaign 68    24515.44         66191.6880  170.0\n",
      "69           70   Campaign 70    19186.02         52761.5550  175.0\n",
      "70           71   Campaign 71    45179.99        131021.9710  190.0\n",
      "71           72   Campaign 72    31003.57         82779.5319  167.0\n",
      "72           73   Campaign 73    13280.46         36122.8512  172.0\n",
      "77           78   Campaign 78    35558.10         93162.2220  162.0\n",
      "85           86   Campaign 86    30862.02         80549.8722  161.0\n",
      "87           88   Campaign 88    17850.93         46233.9087  159.0\n",
      "88           89   Campaign 89    31407.50         93594.3500  198.0\n",
      "91           92   Campaign 92    38978.70        109530.1470  181.0\n",
      "93           94   Campaign 94    43901.57        129509.6315  195.0\n",
      "95           96   Campaign 96    35185.50        105204.6450  199.0\n"
     ]
    }
   ],
   "source": [
    "import pandas as pd\n",
    "\n",
    "data=pd.read_csv('marketing_campaign.csv')\n",
    "df=pd.DataFrame(data)\n",
    "\n",
    "df['ROI'] = ((df['revenue_generated'] - df['investment']) / df['investment']) * 100\n",
    "\n",
    "roi = df['ROI'].quantile(0.75)\n",
    "top = df[df['ROI'] >= roi]\n",
    "print(top)"
   ]
  },
  {
   "cell_type": "markdown",
   "metadata": {
    "id": "z9h4gwuANxPY"
   },
   "source": [
    "Sort by ROI (desc) and campaign_id (desc)"
   ]
  },
  {
   "cell_type": "code",
   "execution_count": 38,
   "metadata": {
    "colab": {
     "base_uri": "https://localhost:8080/"
    },
    "executionInfo": {
     "elapsed": 49,
     "status": "ok",
     "timestamp": 1754908237808,
     "user": {
      "displayName": "VARUN S",
      "userId": "07484574055160433843"
     },
     "user_tz": -330
    },
    "id": "6lNyx9EhmmaX",
    "outputId": "5f1c9c04-013f-4fb6-e5c1-d29a06331e14"
   },
   "outputs": [
    {
     "name": "stdout",
     "output_type": "stream",
     "text": [
      "    campaign_id campaign_name  investment  revenue_generated    ROI\n",
      "95           96   Campaign 96    35185.50        105204.6450  199.0\n",
      "88           89   Campaign 89    31407.50         93594.3500  198.0\n",
      "27           28   Campaign 28    32755.03         97282.4391  197.0\n",
      "93           94   Campaign 94    43901.57        129509.6315  195.0\n",
      "3             4    Campaign 4    29792.67         87888.3765  195.0\n",
      "70           71   Campaign 71    45179.99        131021.9710  190.0\n",
      "39           40   Campaign 40    22769.40         64665.0960  184.0\n",
      "40           41   Campaign 41    48346.81        136821.4723  183.0\n",
      "10           11   Campaign 11    14457.83         40771.0806  182.0\n",
      "91           92   Campaign 92    38978.70        109530.1470  181.0\n",
      "9            10   Campaign 10    33337.29         92344.2933  177.0\n",
      "30           31   Campaign 31    30049.39         82936.3164  176.0\n",
      "66           67   Campaign 67    31706.66         87510.3816  176.0\n",
      "69           70   Campaign 70    19186.02         52761.5550  175.0\n",
      "14           15   Campaign 15    41213.96        112101.9712  172.0\n",
      "72           73   Campaign 73    13280.46         36122.8512  172.0\n",
      "48           49   Campaign 49     5675.85         15438.3120  172.0\n",
      "67           68   Campaign 68    24515.44         66191.6880  170.0\n",
      "71           72   Campaign 72    31003.57         82779.5319  167.0\n",
      "29           30   Campaign 30    47757.93        126080.9352  164.0\n",
      "16           17   Campaign 17    33775.74         88492.4388  162.0\n",
      "77           78   Campaign 78    35558.10         93162.2220  162.0\n",
      "8             9    Campaign 9    21653.79         56732.9298  162.0\n",
      "85           86   Campaign 86    30862.02         80549.8722  161.0\n",
      "87           88   Campaign 88    17850.93         46233.9087  159.0\n"
     ]
    }
   ],
   "source": [
    "desc = top.sort_values(by=['ROI','campaign_id'], ascending=[False,False])\n",
    "print(desc)"
   ]
  },
  {
   "cell_type": "markdown",
   "metadata": {
    "id": "tNJ17NKhm6Tv"
   },
   "source": [
    "Part 8 – Insights"
   ]
  },
  {
   "cell_type": "markdown",
   "metadata": {
    "id": "TYCufhjmN0MB"
   },
   "source": [
    "Which campaigns had the top ROI?"
   ]
  },
  {
   "cell_type": "code",
   "execution_count": 39,
   "metadata": {
    "colab": {
     "base_uri": "https://localhost:8080/"
    },
    "executionInfo": {
     "elapsed": 30,
     "status": "ok",
     "timestamp": 1754908237811,
     "user": {
      "displayName": "VARUN S",
      "userId": "07484574055160433843"
     },
     "user_tz": -330
    },
    "id": "ompCZ5dXm58Q",
    "outputId": "0652ff2f-e0fe-437e-d5f3-74896ab9d4c2"
   },
   "outputs": [
    {
     "name": "stdout",
     "output_type": "stream",
     "text": [
      "    campaign_id campaign_name  investment  revenue_generated    ROI\n",
      "95           96   Campaign 96     35185.5         105204.645  199.0\n"
     ]
    }
   ],
   "source": [
    "import pandas as pd\n",
    "\n",
    "data=pd.read_csv('marketing_campaign.csv')\n",
    "df=pd.DataFrame(data)\n",
    "\n",
    "df['ROI'] = ((df['revenue_generated'] - df['investment']) / df['investment']) * 100\n",
    "maximum= df['ROI'].max()\n",
    "top_roi= df[df['ROI'] == maximum].sort_values(by='campaign_id', ascending=False)\n",
    "\n",
    "print(top_roi)"
   ]
  },
  {
   "cell_type": "markdown",
   "metadata": {
    "id": "FYglvdIUN3xv"
   },
   "source": [
    "Average ROI for all campaigns"
   ]
  },
  {
   "cell_type": "code",
   "execution_count": 40,
   "metadata": {
    "colab": {
     "base_uri": "https://localhost:8080/"
    },
    "executionInfo": {
     "elapsed": 23,
     "status": "ok",
     "timestamp": 1754908237835,
     "user": {
      "displayName": "VARUN S",
      "userId": "07484574055160433843"
     },
     "user_tz": -330
    },
    "id": "nJ6lFQX4ncUh",
    "outputId": "dc5330bc-08d2-4212-c167-3ecf83d6ae39"
   },
   "outputs": [
    {
     "name": "stdout",
     "output_type": "stream",
     "text": [
      "Average: 109.12\n"
     ]
    }
   ],
   "source": [
    "average = df['ROI'].mean()\n",
    "print(\"Average:\",average.round(2))"
   ]
  },
  {
   "cell_type": "markdown",
   "metadata": {
    "id": "IC_M5TT3N6ui"
   },
   "source": [
    "Relationship between investment & revenue"
   ]
  },
  {
   "cell_type": "code",
   "execution_count": 41,
   "metadata": {
    "colab": {
     "base_uri": "https://localhost:8080/"
    },
    "executionInfo": {
     "elapsed": 14,
     "status": "ok",
     "timestamp": 1754908237851,
     "user": {
      "displayName": "VARUN S",
      "userId": "07484574055160433843"
     },
     "user_tz": -330
    },
    "id": "pXfbswkHogil",
    "outputId": "4d91df4d-ba07-47c1-bc37-ced591874e1f"
   },
   "outputs": [
    {
     "name": "stdout",
     "output_type": "stream",
     "text": [
      "Correlation: 0.83\n",
      "Positive Relationship\n"
     ]
    }
   ],
   "source": [
    "Relation = df['investment'].corr(df['revenue_generated'])\n",
    "print(\"Correlation:\",Relation.round(2))\n",
    "if Relation > 0:\n",
    "  print(\"Positive Relationship\")\n",
    "elif Relation < 0:\n",
    "  print(\"Negative Relationship\")\n",
    "else:\n",
    "  print(\"No Relationship\")"
   ]
  },
  {
   "cell_type": "markdown",
   "metadata": {
    "id": "4fGzMNoLN9X2"
   },
   "source": [
    "Which quartile performs the best?"
   ]
  },
  {
   "cell_type": "code",
   "execution_count": 42,
   "metadata": {
    "colab": {
     "base_uri": "https://localhost:8080/"
    },
    "executionInfo": {
     "elapsed": 11,
     "status": "ok",
     "timestamp": 1754908237858,
     "user": {
      "displayName": "VARUN S",
      "userId": "07484574055160433843"
     },
     "user_tz": -330
    },
    "id": "31Jd_z1Ppd9-",
    "outputId": "fd959414-4a32-4774-96c0-1fca7f101407"
   },
   "outputs": [
    {
     "name": "stdout",
     "output_type": "stream",
     "text": [
      "Best Quartile: 4\n"
     ]
    }
   ],
   "source": [
    "df['ROI_Quartile'] = pd.qcut(df['ROI'], 4, labels=[1, 2, 3, 4])\n",
    "quartile_avg = df.groupby('ROI_Quartile', observed=False)['ROI'].mean()\n",
    "best_quartile = quartile_avg.idxmax()\n",
    "print(\"Best Quartile:\",best_quartile)"
   ]
  }
 ],
 "metadata": {
  "colab": {
   "authorship_tag": "ABX9TyNKCItJPlg1EK75TL0/BWmG",
   "provenance": []
  },
  "kernelspec": {
   "display_name": ".venv",
   "language": "python",
   "name": "python3"
  },
  "language_info": {
   "codemirror_mode": {
    "name": "ipython",
    "version": 3
   },
   "file_extension": ".py",
   "mimetype": "text/x-python",
   "name": "python",
   "nbconvert_exporter": "python",
   "pygments_lexer": "ipython3",
   "version": "3.13.7"
  }
 },
 "nbformat": 4,
 "nbformat_minor": 0
}
